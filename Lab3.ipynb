{
 "cells": [
  {
   "cell_type": "markdown",
   "metadata": {},
   "source": [
    "# Laboratorio 3: Reconocimiento de imágenes\n",
    "## Aplicación en detección de Retinopatía Diabética\n",
    "### Introducción\n",
    "La retinopatía diabética es una enfermedad ocular que puede producirse en pacientes con diabetes. Se da debido a los altos niveles de azúcar en la sangre que causan daño a los vasos sanguíneos en la retina. Es general que no se presenten síntomas en las etapas tempranas. Los síntomas de la retinopatía diabética suelen afectar a ambos ojos. A medida que empeora la enfermedad, se presentan los siguientes síntomas:\n",
    "\n",
    "* Un mayor número de moscas volantes\n",
    "* Visión borrosa\n",
    "* Visión que cambia de borrosa a clara\n",
    "* Ver áreas en blanco u oscuras en el campo de visión\n",
    "* Visión nocturna deficiente\n",
    "* Notar que los colores se ven atenuados o apagados\n",
    "* Pérdida la visión\n",
    "\n",
    "#### Etapas y detección\n",
    "La retinopatía se puede detectar de múltiples maneras, sin embargo existe un método a través del cual este padecimiento es detectado por inspección visual de los ojos del paciente. Los ojos, específicamente “un diferencial del ojo” se pueden observar nubosidades, que son hemorragias de los vasos sanguíneos.\n",
    "![DR Stages](./assets/etapas.png)\n",
    "![RD Detección](./assets/RetinopatiaDiabetica.jpg)\n",
    "\n",
    "##### Tipos de retinopatía diabética\n",
    "* Retinopatía diabética proliferativa: Esta es la etapa más avanzada de la enfermedad. Se produce cuando la retina comienza a desarrollar nuevos vasos sanguíneos. Esto se denomina neovascularización. Estos vasos nuevos frágiles a menudo sangran hacia el vítreo. La retinopatía diabética proliferativa es muy grave y puede hacerle perder tanto la visión central como la periférica.\n",
    "\n",
    "* Retinopatía diabética no proliferativa: Esta es la etapa temprana de la enfermedad ocular diabética. La mayoría de las personas diabéticas padecen de este tipo de retinopatía. En esta etapa de la enfermedad, muchos vasos sanguíneos pequeños sufren pérdidas y hacen que la retina se hinche. Si  se tiene retinopatía diabética no proliferativa, la visión del paciente será borrosa\n",
    "\n",
    "##### Problemas de detección\n",
    "![Tensorflow Diagnosis](./assets/tensorflow.png)\n",
    "La gráfica anterior muestra que incluso oftalmólogos pueden presentar inconsistencias a la hora de diagnosticar a un paciente como con, o sin, retinopatía diabética y el grado de la misma.\n",
    "\n",
    "### Análisis del dataset\n",
    "\n",
    "Las imágenes son de varias dimensiones, habiendo de 1050 x 1050 px, 3216 x 2136 px, entre otros, a color por lo que se recomienda modificar las imágenes a escala de grises, o bien una transformación que permita reducir la complejidad de la red neuronal, logrando reducir el uso de recursos computacionales. \n",
    "\n",
    "El dataset provisto contiene 3,662 observaciones para entrenar y 1,928 para testear. Las columnas que contiene el dataset es de código - de la cual no se presentará un análisis pues no brinda información esencial - y diagnosis, esta variable se distribuye de la siguiente manera:\n",
    "\n",
    "![Original Train Diagnosis Histogram](./assets/diagnosisHist.png)\n",
    "![Original Train Diagnosis Proportions](./assets/props.png)\n",
    "\n",
    "El código para realizar las visualizaciones anteriores puede encontrarse en el archivo DataExploration.R\n",
    "\n",
    "Se puede observar que la mayoría de imágenes, siendo casi un 50%, en el dataset de entrenamiento son diagnosticadas como “sin retinopatía diabética”, mientras que menos de un 5.3% y 8.1% son clasificadas como “severa” y “proliferativa”, respectivamente; esto puede repercutir en las respuestas que se obtengan con la red neuronal al introducir el test set, ya que podría sesgar la información y clasificar como “sin diagnosis”.\n",
    "\n",
    "Algunas de las imágenes para cada diagnóstico son las siguientes:"
   ]
  },
  {
   "cell_type": "code",
   "execution_count": 6,
   "metadata": {},
   "outputs": [],
   "source": [
    "import pandas as pd\n",
    "import matplotlib.pyplot as plt\n",
    "import os # Para importar las imagenes\n",
    "from PIL import Image # Para visualizar las imagenes\n",
    "import numpy as np"
   ]
  },
  {
   "cell_type": "code",
   "execution_count": 9,
   "metadata": {
    "scrolled": true
   },
   "outputs": [],
   "source": [
    "train_df = pd.read_csv('./csvs/train.csv')\n",
    "\n",
    "# for i in range(611):\n",
    "#     img = Image.open('./train_images/' + train_df['id_code'][i] + '.png').convert('LA')\n",
    "#     new_image = img.resize((256, 256))\n",
    "#     new_image.save('./transform_images/' + train_df['id_code'][i] + '.png')"
   ]
  },
  {
   "cell_type": "markdown",
   "metadata": {},
   "source": [
    "#### 0 - No DR"
   ]
  },
  {
   "cell_type": "code",
   "execution_count": 10,
   "metadata": {},
   "outputs": [
    {
     "ename": "AttributeError",
     "evalue": "'Series' object has no attribute 'path'",
     "output_type": "error",
     "traceback": [
      "\u001b[0;31m---------------------------------------------------------------------------\u001b[0m",
      "\u001b[0;31mAttributeError\u001b[0m                            Traceback (most recent call last)",
      "\u001b[0;32m<ipython-input-10-9b37c945b03e>\u001b[0m in \u001b[0;36m<module>\u001b[0;34m\u001b[0m\n\u001b[0;32m----> 1\u001b[0;31m \u001b[0mno_dr\u001b[0m \u001b[0;34m=\u001b[0m \u001b[0mImage\u001b[0m\u001b[0;34m.\u001b[0m\u001b[0mopen\u001b[0m\u001b[0;34m(\u001b[0m\u001b[0mtrain_df\u001b[0m\u001b[0;34m[\u001b[0m\u001b[0mtrain_df\u001b[0m\u001b[0;34m.\u001b[0m\u001b[0mdiagnosis\u001b[0m\u001b[0;34m==\u001b[0m\u001b[0;36m0\u001b[0m\u001b[0;34m]\u001b[0m\u001b[0;34m.\u001b[0m\u001b[0miloc\u001b[0m\u001b[0;34m[\u001b[0m\u001b[0;36m0\u001b[0m\u001b[0;34m]\u001b[0m\u001b[0;34m.\u001b[0m\u001b[0mpath\u001b[0m\u001b[0;34m)\u001b[0m\u001b[0;34m\u001b[0m\u001b[0;34m\u001b[0m\u001b[0m\n\u001b[0m\u001b[1;32m      2\u001b[0m \u001b[0mplt\u001b[0m\u001b[0;34m.\u001b[0m\u001b[0mimshow\u001b[0m\u001b[0;34m(\u001b[0m\u001b[0mnp\u001b[0m\u001b[0;34m.\u001b[0m\u001b[0masarray\u001b[0m\u001b[0;34m(\u001b[0m\u001b[0mno_dr\u001b[0m\u001b[0;34m)\u001b[0m\u001b[0;34m)\u001b[0m\u001b[0;34m\u001b[0m\u001b[0;34m\u001b[0m\u001b[0m\n",
      "\u001b[0;32m~/Documents/8/DATA SCIENCE/l3/venv/lib/python3.8/site-packages/pandas/core/generic.py\u001b[0m in \u001b[0;36m__getattr__\u001b[0;34m(self, name)\u001b[0m\n\u001b[1;32m   5128\u001b[0m             \u001b[0;32mif\u001b[0m \u001b[0mself\u001b[0m\u001b[0;34m.\u001b[0m\u001b[0m_info_axis\u001b[0m\u001b[0;34m.\u001b[0m\u001b[0m_can_hold_identifiers_and_holds_name\u001b[0m\u001b[0;34m(\u001b[0m\u001b[0mname\u001b[0m\u001b[0;34m)\u001b[0m\u001b[0;34m:\u001b[0m\u001b[0;34m\u001b[0m\u001b[0;34m\u001b[0m\u001b[0m\n\u001b[1;32m   5129\u001b[0m                 \u001b[0;32mreturn\u001b[0m \u001b[0mself\u001b[0m\u001b[0;34m[\u001b[0m\u001b[0mname\u001b[0m\u001b[0;34m]\u001b[0m\u001b[0;34m\u001b[0m\u001b[0;34m\u001b[0m\u001b[0m\n\u001b[0;32m-> 5130\u001b[0;31m             \u001b[0;32mreturn\u001b[0m \u001b[0mobject\u001b[0m\u001b[0;34m.\u001b[0m\u001b[0m__getattribute__\u001b[0m\u001b[0;34m(\u001b[0m\u001b[0mself\u001b[0m\u001b[0;34m,\u001b[0m \u001b[0mname\u001b[0m\u001b[0;34m)\u001b[0m\u001b[0;34m\u001b[0m\u001b[0;34m\u001b[0m\u001b[0m\n\u001b[0m\u001b[1;32m   5131\u001b[0m \u001b[0;34m\u001b[0m\u001b[0m\n\u001b[1;32m   5132\u001b[0m     \u001b[0;32mdef\u001b[0m \u001b[0m__setattr__\u001b[0m\u001b[0;34m(\u001b[0m\u001b[0mself\u001b[0m\u001b[0;34m,\u001b[0m \u001b[0mname\u001b[0m\u001b[0;34m:\u001b[0m \u001b[0mstr\u001b[0m\u001b[0;34m,\u001b[0m \u001b[0mvalue\u001b[0m\u001b[0;34m)\u001b[0m \u001b[0;34m->\u001b[0m \u001b[0;32mNone\u001b[0m\u001b[0;34m:\u001b[0m\u001b[0;34m\u001b[0m\u001b[0;34m\u001b[0m\u001b[0m\n",
      "\u001b[0;31mAttributeError\u001b[0m: 'Series' object has no attribute 'path'"
     ]
    }
   ],
   "source": [
    "no_dr = Image.open(train_df[train_df.diagnosis==0].iloc[0].path)\n",
    "plt.imshow(np.asarray(no_dr))"
   ]
  },
  {
   "cell_type": "markdown",
   "metadata": {},
   "source": [
    "#### 1 - Mild"
   ]
  },
  {
   "cell_type": "code",
   "execution_count": null,
   "metadata": {},
   "outputs": [],
   "source": [
    "mild = Image.open(train_df[train_df.diagnosis==1].iloc[0].path)\n",
    "plt.imshow(np.asarray(mild))"
   ]
  },
  {
   "cell_type": "markdown",
   "metadata": {},
   "source": [
    "#### 2 - Moderate"
   ]
  },
  {
   "cell_type": "code",
   "execution_count": null,
   "metadata": {},
   "outputs": [],
   "source": [
    "moderate = Image.open(train_df[train_df.diagnosis==2].iloc[0].path)\n",
    "plt.imshow(np.asarray(moderate))"
   ]
  },
  {
   "cell_type": "markdown",
   "metadata": {},
   "source": [
    "#### 3 - Severe"
   ]
  },
  {
   "cell_type": "code",
   "execution_count": null,
   "metadata": {},
   "outputs": [],
   "source": [
    "sev = Image.open(train_df[train_df.diagnosis==3].iloc[0].path)\n",
    "plt.imshow(np.asarray(sev))"
   ]
  },
  {
   "cell_type": "markdown",
   "metadata": {},
   "source": [
    "#### 4 - Proliferative"
   ]
  },
  {
   "cell_type": "code",
   "execution_count": null,
   "metadata": {},
   "outputs": [],
   "source": [
    "prol = Image.open(train_df[train_df.diagnosis==4].iloc[0].path)\n",
    "plt.imshow(np.asarray(prol))"
   ]
  },
  {
   "cell_type": "code",
   "execution_count": null,
   "metadata": {},
   "outputs": [],
   "source": [
    "train_df['path'] = train_df['id_code'].map(lambda x: os.path.join('./train_images/','{}.png'.format(x)))\n",
    "train_df['path_gray'] = train_df['id_code'].map(lambda x: os.path.join('./transform_images/','{}.png'.format(x)))"
   ]
  },
  {
   "cell_type": "code",
   "execution_count": null,
   "metadata": {},
   "outputs": [],
   "source": [
    "train_df = train_df[:610] #se usaran solo las primeras 611 fotos, por cuestiones de tiempo"
   ]
  },
  {
   "cell_type": "code",
   "execution_count": null,
   "metadata": {},
   "outputs": [],
   "source": [
    "diagnosis_labs = pd.read_csv('./csvs/diagnosis.csv')"
   ]
  },
  {
   "cell_type": "code",
   "execution_count": null,
   "metadata": {},
   "outputs": [],
   "source": [
    "train_df_labs = pd.merge(train_df, diagnosis_labs)\n",
    "train_df_labs[\"diagnosis_n\"].value_counts().plot(kind='bar')"
   ]
  },
  {
   "cell_type": "markdown",
   "metadata": {},
   "source": [
    "Se puede observar que, ya que los diagnósticos estan distribuidos aleatoriamente en el csv original, escoger los primeros 611 no parece afectar a la distribución."
   ]
  },
  {
   "cell_type": "code",
   "execution_count": null,
   "metadata": {},
   "outputs": [],
   "source": [
    "# No lo vamos a usar todavia, pero importemoslo de una vez\n",
    "submission = pd.read_csv('./csvs/test.csv')\n",
    "submission"
   ]
  },
  {
   "cell_type": "markdown",
   "metadata": {},
   "source": [
    "### Modificación de las imágenes"
   ]
  },
  {
   "cell_type": "code",
   "execution_count": null,
   "metadata": {},
   "outputs": [],
   "source": [
    "# Ver dimensiones de imagen\n",
    "im = Image.open(train_df['path'][1])\n",
    "width, height = im.size\n",
    "print(width,height) \n",
    "plt.imshow(np.asarray(im))"
   ]
  },
  {
   "cell_type": "markdown",
   "metadata": {},
   "source": [
    "Se puede observar que las imagenes son bastante grandes, por lo cual será necesario para empezar, cambiar su tamaño.\n"
   ]
  },
  {
   "cell_type": "markdown",
   "metadata": {},
   "source": [
    "Para empezar, creemos nuestros train y test set a partir de train_df. Escogeremos 65% y 35% al azar, respectivamente."
   ]
  },
  {
   "cell_type": "code",
   "execution_count": null,
   "metadata": {},
   "outputs": [],
   "source": [
    "# train, test = np.split(train_df.sample(frac=1), [int(.65*len(train_df))])"
   ]
  },
  {
   "cell_type": "code",
   "execution_count": null,
   "metadata": {},
   "outputs": [],
   "source": [
    "# np.save('train_set.npy', train)\n",
    "# np.save('test_set.npy', test)\n",
    "train"
   ]
  },
  {
   "cell_type": "code",
   "execution_count": null,
   "metadata": {
    "scrolled": true
   },
   "outputs": [],
   "source": [
    "train=pd.DataFrame(np.load('train_set.npy', allow_pickle=True), columns=['id_code', 'diagnosis','path', 'path_gray'])\n",
    "test=pd.DataFrame(np.load('test_set.npy', allow_pickle=True), columns=['id_code', 'diagnosis','path', 'path_gray'])"
   ]
  },
  {
   "cell_type": "markdown",
   "metadata": {},
   "source": [
    "Ahora, se debe procurar compensar la sobre-representación de los casos sin retinopatía diabética en el dataset de train, ya que esto podría ser un bias que afectaría el cross validation y el test.\n",
    "\n",
    "Para esto, se hará un oversampling.\n",
    "Para referencia, esta es la distribución de nuestro nuevo train set, al escoger una muestra del 65% al azar:"
   ]
  },
  {
   "cell_type": "code",
   "execution_count": null,
   "metadata": {},
   "outputs": [],
   "source": [
    "train_labs = pd.merge(train, diagnosis_labs)\n",
    "train_labs[\"diagnosis_n\"].value_counts().plot(kind='bar')"
   ]
  },
  {
   "cell_type": "markdown",
   "metadata": {},
   "source": [
    "Se puede observar que la distribución de los diagnósticos se sigue manteniendo."
   ]
  },
  {
   "cell_type": "code",
   "execution_count": null,
   "metadata": {},
   "outputs": [],
   "source": [
    "max_size = train_labs['diagnosis_n'].value_counts().max()\n",
    "max_size"
   ]
  },
  {
   "cell_type": "code",
   "execution_count": null,
   "metadata": {},
   "outputs": [],
   "source": [
    "min_size = train_labs['diagnosis_n'].value_counts().min()\n",
    "min_size"
   ]
  },
  {
   "cell_type": "code",
   "execution_count": null,
   "metadata": {},
   "outputs": [],
   "source": [
    "# Realizamos el oversampling\n",
    "# lst = [train_labs]\n",
    "# for class_index, group in train_labs.groupby('diagnosis'):\n",
    "#    lst.append(group.sample(max_size-len(group), replace=True))\n",
    "# oversampled_train = pd.concat(lst)"
   ]
  },
  {
   "cell_type": "code",
   "execution_count": null,
   "metadata": {},
   "outputs": [],
   "source": [
    "#np.save('oversampled_train.npy',oversampled_train)"
   ]
  },
  {
   "cell_type": "code",
   "execution_count": 26,
   "metadata": {
    "scrolled": true
   },
   "outputs": [],
   "source": [
    "oversampled_train=pd.DataFrame(np.load('oversampled_train.npy', allow_pickle=True), columns=['id_code',\n",
    "                                                                                             'diagnosis',\n",
    "                                                                                             'path',\n",
    "                                                                                             'path_gray',\n",
    "                                                                                             'diagnosis_n'])"
   ]
  },
  {
   "cell_type": "code",
   "execution_count": 27,
   "metadata": {},
   "outputs": [
    {
     "data": {
      "text/plain": [
       "<AxesSubplot:>"
      ]
     },
     "execution_count": 27,
     "metadata": {},
     "output_type": "execute_result"
    },
    {
     "data": {
      "image/png": "[encoded data removed]",
      "text/plain": [
       "<Figure size 432x288 with 1 Axes>"
      ]
     },
     "metadata": {
      "needs_background": "light"
     },
     "output_type": "display_data"
    }
   ],
   "source": [
    "oversampled_train[\"diagnosis_n\"].value_counts().plot(kind='bar')"
   ]
  },
  {
   "cell_type": "code",
   "execution_count": null,
   "metadata": {},
   "outputs": [],
   "source": [
    "# no_dr = np.random.choice(train_labs[train_labs.diagnosis==0].index, min_size, replace=False)\n",
    "# mild = np.random.choice(train_labs[train_labs.diagnosis==1].index, min_size, replace=False)\n",
    "# moderate = np.random.choice(train_labs[train_labs.diagnosis==2].index, min_size, replace=False)\n",
    "# severe = np.random.choice(train_labs[train_labs.diagnosis==3].index, min_size, replace=False)\n",
    "# proliferative = np.random.choice(train_labs[train_labs.diagnosis==4].index, min_size, replace=False)"
   ]
  },
  {
   "cell_type": "code",
   "execution_count": 11,
   "metadata": {},
   "outputs": [],
   "source": [
    "# undersample_indexes = np.concatenate([no_dr,mild,moderate,severe,proliferative])"
   ]
  },
  {
   "cell_type": "code",
   "execution_count": 12,
   "metadata": {},
   "outputs": [
    {
     "data": {
      "text/plain": [
       "<AxesSubplot:>"
      ]
     },
     "execution_count": 12,
     "metadata": {},
     "output_type": "execute_result"
    },
    {
     "data": {
      "image/png": "[encoded data removed]",
      "text/plain": [
       "<Figure size 432x288 with 1 Axes>"
      ]
     },
     "metadata": {
      "needs_background": "light"
     },
     "output_type": "display_data"
    }
   ],
   "source": [
    "# undersampled_train = train_labs.loc[undersample_indexes]\n",
    "# np.save('undersampled_train.npy',undersampled_train)\n",
    "undersampled_train=pd.DataFrame(np.load('undersampled_train.npy', allow_pickle=True), columns=['id_code',\n",
    "                                                                                             'diagnosis',\n",
    "                                                                                             'path',\n",
    "                                                                                             'path_gray',\n",
    "                                                                                             'diagnosis_n'])\n",
    "undersampled_train[\"diagnosis_n\"].value_counts().plot(kind='bar')"
   ]
  },
  {
   "cell_type": "markdown",
   "metadata": {},
   "source": [
    "### Transformaciones y Redes Neuronales\n",
    "Se realizarán 2 modelos, uno con el dataset undersampled y el otro oversampled. Para empezar, cargaremos las librerías a utilizar y los datos del test."
   ]
  },
  {
   "cell_type": "code",
   "execution_count": 62,
   "metadata": {
    "scrolled": true
   },
   "outputs": [],
   "source": [
    "import keras\n",
    "from keras.models import Sequential\n",
    "from keras.layers import Dense, Dropout, Flatten\n",
    "from keras.layers import Conv2D, MaxPooling2D\n",
    "from keras.utils import to_categorical\n",
    "from keras.preprocessing import image\n",
    "from sklearn.model_selection import train_test_split\n",
    "from keras.utils import to_categorical\n",
    "from tqdm import tqdm"
   ]
  },
  {
   "cell_type": "code",
   "execution_count": 65,
   "metadata": {},
   "outputs": [
    {
     "name": "stderr",
     "output_type": "stream",
     "text": [
      "100%|██████████| 214/214 [00:00<00:00, 361.84it/s]\n"
     ]
    }
   ],
   "source": [
    "test_images = []\n",
    "for i in tqdm(range(test.shape[0])):\n",
    "    img = image.load_img(test[\"path_gray\"][i], target_size=(256,256, 1), color_mode=\"grayscale\")\n",
    "    img = image.img_to_array(img)\n",
    "    img = img/255\n",
    "    test_images.append(img)\n",
    "X_test = np.array(test_images)\n",
    "\n",
    "y_test = test['diagnosis'].values\n",
    "y_test = to_categorical(y_test)"
   ]
  },
  {
   "cell_type": "markdown",
   "metadata": {},
   "source": [
    "#### Undersampled"
   ]
  },
  {
   "cell_type": "code",
   "execution_count": 64,
   "metadata": {},
   "outputs": [
    {
     "data": {
      "text/html": [
       "<div>\n",
       "<style scoped>\n",
       "    .dataframe tbody tr th:only-of-type {\n",
       "        vertical-align: middle;\n",
       "    }\n",
       "\n",
       "    .dataframe tbody tr th {\n",
       "        vertical-align: top;\n",
       "    }\n",
       "\n",
       "    .dataframe thead th {\n",
       "        text-align: right;\n",
       "    }\n",
       "</style>\n",
       "<table border=\"1\" class=\"dataframe\">\n",
       "  <thead>\n",
       "    <tr style=\"text-align: right;\">\n",
       "      <th></th>\n",
       "      <th>id_code</th>\n",
       "      <th>diagnosis</th>\n",
       "      <th>path</th>\n",
       "      <th>path_gray</th>\n",
       "      <th>diagnosis_n</th>\n",
       "    </tr>\n",
       "  </thead>\n",
       "  <tbody>\n",
       "    <tr>\n",
       "      <th>0</th>\n",
       "      <td>0cbcc7b23613</td>\n",
       "      <td>0</td>\n",
       "      <td>./train_images/0cbcc7b23613.png</td>\n",
       "      <td>./transform_images/0cbcc7b23613.png</td>\n",
       "      <td>No DR</td>\n",
       "    </tr>\n",
       "    <tr>\n",
       "      <th>1</th>\n",
       "      <td>0232dfea7547</td>\n",
       "      <td>0</td>\n",
       "      <td>./train_images/0232dfea7547.png</td>\n",
       "      <td>./transform_images/0232dfea7547.png</td>\n",
       "      <td>No DR</td>\n",
       "    </tr>\n",
       "    <tr>\n",
       "      <th>2</th>\n",
       "      <td>1ae3c58759fb</td>\n",
       "      <td>0</td>\n",
       "      <td>./train_images/1ae3c58759fb.png</td>\n",
       "      <td>./transform_images/1ae3c58759fb.png</td>\n",
       "      <td>No DR</td>\n",
       "    </tr>\n",
       "    <tr>\n",
       "      <th>3</th>\n",
       "      <td>240b25a7debe</td>\n",
       "      <td>0</td>\n",
       "      <td>./train_images/240b25a7debe.png</td>\n",
       "      <td>./transform_images/240b25a7debe.png</td>\n",
       "      <td>No DR</td>\n",
       "    </tr>\n",
       "    <tr>\n",
       "      <th>4</th>\n",
       "      <td>17f6c7072f61</td>\n",
       "      <td>0</td>\n",
       "      <td>./train_images/17f6c7072f61.png</td>\n",
       "      <td>./transform_images/17f6c7072f61.png</td>\n",
       "      <td>No DR</td>\n",
       "    </tr>\n",
       "    <tr>\n",
       "      <th>...</th>\n",
       "      <td>...</td>\n",
       "      <td>...</td>\n",
       "      <td>...</td>\n",
       "      <td>...</td>\n",
       "      <td>...</td>\n",
       "    </tr>\n",
       "    <tr>\n",
       "      <th>90</th>\n",
       "      <td>165cd2070ebd</td>\n",
       "      <td>4</td>\n",
       "      <td>./train_images/165cd2070ebd.png</td>\n",
       "      <td>./transform_images/165cd2070ebd.png</td>\n",
       "      <td>Proliferative</td>\n",
       "    </tr>\n",
       "    <tr>\n",
       "      <th>91</th>\n",
       "      <td>1e9224ccca95</td>\n",
       "      <td>4</td>\n",
       "      <td>./train_images/1e9224ccca95.png</td>\n",
       "      <td>./transform_images/1e9224ccca95.png</td>\n",
       "      <td>Proliferative</td>\n",
       "    </tr>\n",
       "    <tr>\n",
       "      <th>92</th>\n",
       "      <td>0243404e8a00</td>\n",
       "      <td>4</td>\n",
       "      <td>./train_images/0243404e8a00.png</td>\n",
       "      <td>./transform_images/0243404e8a00.png</td>\n",
       "      <td>Proliferative</td>\n",
       "    </tr>\n",
       "    <tr>\n",
       "      <th>93</th>\n",
       "      <td>262ad704319c</td>\n",
       "      <td>4</td>\n",
       "      <td>./train_images/262ad704319c.png</td>\n",
       "      <td>./transform_images/262ad704319c.png</td>\n",
       "      <td>Proliferative</td>\n",
       "    </tr>\n",
       "    <tr>\n",
       "      <th>94</th>\n",
       "      <td>0e82bcacc475</td>\n",
       "      <td>4</td>\n",
       "      <td>./train_images/0e82bcacc475.png</td>\n",
       "      <td>./transform_images/0e82bcacc475.png</td>\n",
       "      <td>Proliferative</td>\n",
       "    </tr>\n",
       "  </tbody>\n",
       "</table>\n",
       "<p>95 rows × 5 columns</p>\n",
       "</div>"
      ],
      "text/plain": [
       "         id_code diagnosis                             path  \\\n",
       "0   0cbcc7b23613         0  ./train_images/0cbcc7b23613.png   \n",
       "1   0232dfea7547         0  ./train_images/0232dfea7547.png   \n",
       "2   1ae3c58759fb         0  ./train_images/1ae3c58759fb.png   \n",
       "3   240b25a7debe         0  ./train_images/240b25a7debe.png   \n",
       "4   17f6c7072f61         0  ./train_images/17f6c7072f61.png   \n",
       "..           ...       ...                              ...   \n",
       "90  165cd2070ebd         4  ./train_images/165cd2070ebd.png   \n",
       "91  1e9224ccca95         4  ./train_images/1e9224ccca95.png   \n",
       "92  0243404e8a00         4  ./train_images/0243404e8a00.png   \n",
       "93  262ad704319c         4  ./train_images/262ad704319c.png   \n",
       "94  0e82bcacc475         4  ./train_images/0e82bcacc475.png   \n",
       "\n",
       "                              path_gray    diagnosis_n  \n",
       "0   ./transform_images/0cbcc7b23613.png          No DR  \n",
       "1   ./transform_images/0232dfea7547.png          No DR  \n",
       "2   ./transform_images/1ae3c58759fb.png          No DR  \n",
       "3   ./transform_images/240b25a7debe.png          No DR  \n",
       "4   ./transform_images/17f6c7072f61.png          No DR  \n",
       "..                                  ...            ...  \n",
       "90  ./transform_images/165cd2070ebd.png  Proliferative  \n",
       "91  ./transform_images/1e9224ccca95.png  Proliferative  \n",
       "92  ./transform_images/0243404e8a00.png  Proliferative  \n",
       "93  ./transform_images/262ad704319c.png  Proliferative  \n",
       "94  ./transform_images/0e82bcacc475.png  Proliferative  \n",
       "\n",
       "[95 rows x 5 columns]"
      ]
     },
     "execution_count": 64,
     "metadata": {},
     "output_type": "execute_result"
    }
   ],
   "source": [
    "undersampled_train"
   ]
  },
  {
   "cell_type": "markdown",
   "metadata": {},
   "source": [
    "Dado que son tan pocas entradas, se estima que la predicción de este modelo sea más baja que la del oversampled."
   ]
  },
  {
   "cell_type": "code",
   "execution_count": 66,
   "metadata": {},
   "outputs": [
    {
     "name": "stderr",
     "output_type": "stream",
     "text": [
      "100%|██████████| 95/95 [00:00<00:00, 309.61it/s]\n"
     ]
    }
   ],
   "source": [
    "undersampled_images = []\n",
    "for i in tqdm(range(undersampled_train.shape[0])):\n",
    "    img = image.load_img(undersampled_train[\"path_gray\"][i], target_size=(256,256,1), color_mode=\"grayscale\")\n",
    "    img = image.img_to_array(img)\n",
    "    img = img/255\n",
    "    undersampled_images.append(img)\n",
    "X_undersampled = np.array(undersampled_images)"
   ]
  },
  {
   "cell_type": "code",
   "execution_count": 67,
   "metadata": {},
   "outputs": [],
   "source": [
    "import keras"
   ]
  },
  {
   "cell_type": "code",
   "execution_count": 68,
   "metadata": {},
   "outputs": [],
   "source": [
    "y_undersampled = undersampled_train['diagnosis'].values\n",
    "y_undersampled = to_categorical(y_undersampled)"
   ]
  },
  {
   "cell_type": "markdown",
   "metadata": {},
   "source": [
    "#### Oversampled"
   ]
  },
  {
   "cell_type": "code",
   "execution_count": 69,
   "metadata": {
    "scrolled": true
   },
   "outputs": [
    {
     "data": {
      "text/html": [
       "<div>\n",
       "<style scoped>\n",
       "    .dataframe tbody tr th:only-of-type {\n",
       "        vertical-align: middle;\n",
       "    }\n",
       "\n",
       "    .dataframe tbody tr th {\n",
       "        vertical-align: top;\n",
       "    }\n",
       "\n",
       "    .dataframe thead th {\n",
       "        text-align: right;\n",
       "    }\n",
       "</style>\n",
       "<table border=\"1\" class=\"dataframe\">\n",
       "  <thead>\n",
       "    <tr style=\"text-align: right;\">\n",
       "      <th></th>\n",
       "      <th>id_code</th>\n",
       "      <th>diagnosis</th>\n",
       "      <th>path</th>\n",
       "      <th>path_gray</th>\n",
       "      <th>diagnosis_n</th>\n",
       "    </tr>\n",
       "  </thead>\n",
       "  <tbody>\n",
       "    <tr>\n",
       "      <th>0</th>\n",
       "      <td>10bf25731c08</td>\n",
       "      <td>0</td>\n",
       "      <td>./train_images/10bf25731c08.png</td>\n",
       "      <td>./transform_images/10bf25731c08.png</td>\n",
       "      <td>No DR</td>\n",
       "    </tr>\n",
       "    <tr>\n",
       "      <th>1</th>\n",
       "      <td>28503940d10b</td>\n",
       "      <td>0</td>\n",
       "      <td>./train_images/28503940d10b.png</td>\n",
       "      <td>./transform_images/28503940d10b.png</td>\n",
       "      <td>No DR</td>\n",
       "    </tr>\n",
       "    <tr>\n",
       "      <th>2</th>\n",
       "      <td>1ec95179cdfe</td>\n",
       "      <td>0</td>\n",
       "      <td>./train_images/1ec95179cdfe.png</td>\n",
       "      <td>./transform_images/1ec95179cdfe.png</td>\n",
       "      <td>No DR</td>\n",
       "    </tr>\n",
       "    <tr>\n",
       "      <th>3</th>\n",
       "      <td>0e43c8298fc0</td>\n",
       "      <td>0</td>\n",
       "      <td>./train_images/0e43c8298fc0.png</td>\n",
       "      <td>./transform_images/0e43c8298fc0.png</td>\n",
       "      <td>No DR</td>\n",
       "    </tr>\n",
       "    <tr>\n",
       "      <th>4</th>\n",
       "      <td>0a38b552372d</td>\n",
       "      <td>0</td>\n",
       "      <td>./train_images/0a38b552372d.png</td>\n",
       "      <td>./transform_images/0a38b552372d.png</td>\n",
       "      <td>No DR</td>\n",
       "    </tr>\n",
       "    <tr>\n",
       "      <th>...</th>\n",
       "      <td>...</td>\n",
       "      <td>...</td>\n",
       "      <td>...</td>\n",
       "      <td>...</td>\n",
       "      <td>...</td>\n",
       "    </tr>\n",
       "    <tr>\n",
       "      <th>910</th>\n",
       "      <td>20d5fdd450ae</td>\n",
       "      <td>4</td>\n",
       "      <td>./train_images/20d5fdd450ae.png</td>\n",
       "      <td>./transform_images/20d5fdd450ae.png</td>\n",
       "      <td>Proliferative</td>\n",
       "    </tr>\n",
       "    <tr>\n",
       "      <th>911</th>\n",
       "      <td>0ada12c0e78f</td>\n",
       "      <td>4</td>\n",
       "      <td>./train_images/0ada12c0e78f.png</td>\n",
       "      <td>./transform_images/0ada12c0e78f.png</td>\n",
       "      <td>Proliferative</td>\n",
       "    </tr>\n",
       "    <tr>\n",
       "      <th>912</th>\n",
       "      <td>0318598cfd16</td>\n",
       "      <td>4</td>\n",
       "      <td>./train_images/0318598cfd16.png</td>\n",
       "      <td>./transform_images/0318598cfd16.png</td>\n",
       "      <td>Proliferative</td>\n",
       "    </tr>\n",
       "    <tr>\n",
       "      <th>913</th>\n",
       "      <td>2017cd92c63d</td>\n",
       "      <td>4</td>\n",
       "      <td>./train_images/2017cd92c63d.png</td>\n",
       "      <td>./transform_images/2017cd92c63d.png</td>\n",
       "      <td>Proliferative</td>\n",
       "    </tr>\n",
       "    <tr>\n",
       "      <th>914</th>\n",
       "      <td>1e9224ccca95</td>\n",
       "      <td>4</td>\n",
       "      <td>./train_images/1e9224ccca95.png</td>\n",
       "      <td>./transform_images/1e9224ccca95.png</td>\n",
       "      <td>Proliferative</td>\n",
       "    </tr>\n",
       "  </tbody>\n",
       "</table>\n",
       "<p>915 rows × 5 columns</p>\n",
       "</div>"
      ],
      "text/plain": [
       "          id_code diagnosis                             path  \\\n",
       "0    10bf25731c08         0  ./train_images/10bf25731c08.png   \n",
       "1    28503940d10b         0  ./train_images/28503940d10b.png   \n",
       "2    1ec95179cdfe         0  ./train_images/1ec95179cdfe.png   \n",
       "3    0e43c8298fc0         0  ./train_images/0e43c8298fc0.png   \n",
       "4    0a38b552372d         0  ./train_images/0a38b552372d.png   \n",
       "..            ...       ...                              ...   \n",
       "910  20d5fdd450ae         4  ./train_images/20d5fdd450ae.png   \n",
       "911  0ada12c0e78f         4  ./train_images/0ada12c0e78f.png   \n",
       "912  0318598cfd16         4  ./train_images/0318598cfd16.png   \n",
       "913  2017cd92c63d         4  ./train_images/2017cd92c63d.png   \n",
       "914  1e9224ccca95         4  ./train_images/1e9224ccca95.png   \n",
       "\n",
       "                               path_gray    diagnosis_n  \n",
       "0    ./transform_images/10bf25731c08.png          No DR  \n",
       "1    ./transform_images/28503940d10b.png          No DR  \n",
       "2    ./transform_images/1ec95179cdfe.png          No DR  \n",
       "3    ./transform_images/0e43c8298fc0.png          No DR  \n",
       "4    ./transform_images/0a38b552372d.png          No DR  \n",
       "..                                   ...            ...  \n",
       "910  ./transform_images/20d5fdd450ae.png  Proliferative  \n",
       "911  ./transform_images/0ada12c0e78f.png  Proliferative  \n",
       "912  ./transform_images/0318598cfd16.png  Proliferative  \n",
       "913  ./transform_images/2017cd92c63d.png  Proliferative  \n",
       "914  ./transform_images/1e9224ccca95.png  Proliferative  \n",
       "\n",
       "[915 rows x 5 columns]"
      ]
     },
     "execution_count": 69,
     "metadata": {},
     "output_type": "execute_result"
    }
   ],
   "source": [
    "oversampled_train"
   ]
  },
  {
   "cell_type": "code",
   "execution_count": 70,
   "metadata": {},
   "outputs": [
    {
     "name": "stderr",
     "output_type": "stream",
     "text": [
      "100%|██████████| 915/915 [00:02<00:00, 347.54it/s]\n"
     ]
    }
   ],
   "source": [
    "oversampled_images = []\n",
    "for i in tqdm(range(oversampled_train.shape[0])):\n",
    "    img = image.load_img(oversampled_train[\"path_gray\"][i], target_size=(256,256,1), color_mode=\"grayscale\")\n",
    "    img = image.img_to_array(img)\n",
    "    img = img/255\n",
    "    oversampled_images.append(img)\n",
    "X_oversampled = np.array(oversampled_images)\n",
    "\n",
    "y_oversampled = oversampled_train['diagnosis'].values\n",
    "y_oversampled = to_categorical(y_oversampled)"
   ]
  },
  {
   "cell_type": "markdown",
   "metadata": {},
   "source": [
    "## Undersampled Convolutional Neural Network"
   ]
  },
  {
   "cell_type": "code",
   "execution_count": 71,
   "metadata": {},
   "outputs": [],
   "source": [
    "# Creación del modelo 1 -- Este fue el mejor con 10 épocas.\n",
    "model = Sequential()\n",
    "model.add(Conv2D(32, kernel_size=(3, 3),activation='relu',input_shape=(256,256,1)))\n",
    "model.add(Conv2D(64, (3, 3), activation='relu'))\n",
    "model.add(MaxPooling2D(pool_size=(2, 2)))\n",
    "model.add(Dropout(rate = 0.25))\n",
    "model.add(Flatten())\n",
    "model.add(Dense(128, activation='relu'))\n",
    "model.add(Dropout(rate = 0.5))\n",
    "model.add(Dense(5, activation='softmax'))"
   ]
  },
  {
   "cell_type": "code",
   "execution_count": 72,
   "metadata": {},
   "outputs": [],
   "source": [
    "model.compile(loss='categorical_crossentropy',optimizer='Adam',metrics=['accuracy'])"
   ]
  },
  {
   "cell_type": "code",
   "execution_count": 73,
   "metadata": {
    "scrolled": true
   },
   "outputs": [
    {
     "name": "stdout",
     "output_type": "stream",
     "text": [
      "Epoch 1/10\n",
      "3/3 [==============================] - 12s 4s/step - loss: 24.7842 - accuracy: 0.1474 - val_loss: 7.5064 - val_accuracy: 0.4439\n",
      "Epoch 2/10\n",
      "3/3 [==============================] - 13s 4s/step - loss: 14.2278 - accuracy: 0.2211 - val_loss: 5.8985 - val_accuracy: 0.1028\n",
      "Epoch 3/10\n",
      "3/3 [==============================] - 13s 4s/step - loss: 3.1042 - accuracy: 0.3474 - val_loss: 1.1290 - val_accuracy: 0.5374\n",
      "Epoch 4/10\n",
      "3/3 [==============================] - 14s 5s/step - loss: 1.6016 - accuracy: 0.3158 - val_loss: 1.0617 - val_accuracy: 0.5935\n",
      "Epoch 5/10\n",
      "3/3 [==============================] - 13s 4s/step - loss: 1.2170 - accuracy: 0.4632 - val_loss: 1.1794 - val_accuracy: 0.4439\n",
      "Epoch 6/10\n",
      "3/3 [==============================] - 12s 4s/step - loss: 1.1377 - accuracy: 0.5368 - val_loss: 1.0899 - val_accuracy: 0.5374\n",
      "Epoch 7/10\n",
      "3/3 [==============================] - 15s 5s/step - loss: 1.0543 - accuracy: 0.5789 - val_loss: 1.1037 - val_accuracy: 0.5514\n",
      "Epoch 8/10\n",
      "3/3 [==============================] - 18s 6s/step - loss: 0.9641 - accuracy: 0.6105 - val_loss: 1.2848 - val_accuracy: 0.4299\n",
      "Epoch 9/10\n",
      "3/3 [==============================] - 13s 4s/step - loss: 0.9312 - accuracy: 0.6211 - val_loss: 1.2407 - val_accuracy: 0.5000\n",
      "Epoch 10/10\n",
      "3/3 [==============================] - 13s 4s/step - loss: 0.9427 - accuracy: 0.6211 - val_loss: 1.1503 - val_accuracy: 0.5654\n"
     ]
    },
    {
     "data": {
      "text/plain": [
       "<tensorflow.python.keras.callbacks.History at 0x15ccfb520>"
      ]
     },
     "execution_count": 73,
     "metadata": {},
     "output_type": "execute_result"
    }
   ],
   "source": [
    "model.fit(X_undersampled, y_undersampled, epochs=10, validation_data=(X_test, y_test))"
   ]
  },
  {
   "cell_type": "markdown",
   "metadata": {},
   "source": [
    "## Oversampled Convolutional Neural Network"
   ]
  },
  {
   "cell_type": "code",
   "execution_count": 74,
   "metadata": {},
   "outputs": [],
   "source": [
    "# Creación del modelo 1 -- Este fue el mejor con 10 épocas.\n",
    "model_over = Sequential()\n",
    "model_over.add(Conv2D(32, kernel_size=(3, 3),activation='relu',input_shape=(256,256,1)))\n",
    "model_over.add(Conv2D(64, (3, 3), activation='relu'))\n",
    "model_over.add(MaxPooling2D(pool_size=(2, 2)))\n",
    "model_over.add(Dropout(rate = 0.25))\n",
    "model_over.add(Flatten())\n",
    "model_over.add(Dense(128, activation='relu'))\n",
    "model_over.add(Dropout(rate = 0.5))\n",
    "model_over.add(Dense(5, activation='softmax'))"
   ]
  },
  {
   "cell_type": "code",
   "execution_count": 75,
   "metadata": {},
   "outputs": [],
   "source": [
    "model_over.compile(loss='categorical_crossentropy',optimizer='Adam',metrics=['accuracy'])"
   ]
  },
  {
   "cell_type": "code",
   "execution_count": 77,
   "metadata": {
    "scrolled": true
   },
   "outputs": [
    {
     "name": "stdout",
     "output_type": "stream",
     "text": [
      "Epoch 1/10\n",
      "29/29 [==============================] - 104s 4s/step - loss: 3.0349 - accuracy: 0.4448 - val_loss: 1.0750 - val_accuracy: 0.5093\n",
      "Epoch 2/10\n",
      "29/29 [==============================] - 105s 4s/step - loss: 0.8670 - accuracy: 0.6962 - val_loss: 1.1512 - val_accuracy: 0.5654\n",
      "Epoch 3/10\n",
      "29/29 [==============================] - 106s 4s/step - loss: 0.6287 - accuracy: 0.7792 - val_loss: 1.1831 - val_accuracy: 0.5561\n",
      "Epoch 4/10\n",
      "29/29 [==============================] - 107s 4s/step - loss: 0.4081 - accuracy: 0.8634 - val_loss: 1.2588 - val_accuracy: 0.6402\n",
      "Epoch 5/10\n",
      "29/29 [==============================] - 105s 4s/step - loss: 0.2338 - accuracy: 0.9235 - val_loss: 1.2745 - val_accuracy: 0.6075\n",
      "Epoch 6/10\n",
      "29/29 [==============================] - 112s 4s/step - loss: 0.1643 - accuracy: 0.9475 - val_loss: 1.1833 - val_accuracy: 0.6542\n",
      "Epoch 7/10\n",
      "29/29 [==============================] - 106s 4s/step - loss: 0.1471 - accuracy: 0.9541 - val_loss: 1.2175 - val_accuracy: 0.6168\n",
      "Epoch 8/10\n",
      "29/29 [==============================] - 105s 4s/step - loss: 0.0896 - accuracy: 0.9760 - val_loss: 1.3290 - val_accuracy: 0.6495\n",
      "Epoch 9/10\n",
      "29/29 [==============================] - 105s 4s/step - loss: 0.0575 - accuracy: 0.9858 - val_loss: 1.5145 - val_accuracy: 0.6449\n",
      "Epoch 10/10\n",
      "29/29 [==============================] - 106s 4s/step - loss: 0.0608 - accuracy: 0.9836 - val_loss: 1.4225 - val_accuracy: 0.6355\n"
     ]
    },
    {
     "data": {
      "text/plain": [
       "<tensorflow.python.keras.callbacks.History at 0x169026460>"
      ]
     },
     "execution_count": 77,
     "metadata": {},
     "output_type": "execute_result"
    }
   ],
   "source": [
    "model_over.fit(X_oversampled, y_oversampled, epochs=10, validation_data=(X_test, y_test))"
   ]
  },
  {
   "cell_type": "code",
   "execution_count": null,
   "metadata": {},
   "outputs": [],
   "source": []
  }
 ],
 "metadata": {
  "kernelspec": {
   "display_name": "Python 3",
   "language": "python",
   "name": "python3"
  },
  "language_info": {
   "codemirror_mode": {
    "name": "ipython",
    "version": 3
   },
   "file_extension": ".py",
   "mimetype": "text/x-python",
   "name": "python",
   "nbconvert_exporter": "python",
   "pygments_lexer": "ipython3",
   "version": "3.8.5"
  }
 },
 "nbformat": 4,
 "nbformat_minor": 4
}

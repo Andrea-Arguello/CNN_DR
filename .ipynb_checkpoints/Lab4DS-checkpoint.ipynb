{
 "cells": [
  {
   "cell_type": "markdown",
   "metadata": {
    "colab_type": "text",
    "id": "xyGAa_Arj2vf"
   },
   "source": [
    "# Laboratorio 4 - Clasificación de imágenes\n",
    "Javier Anleu - 17149\n",
    "\n",
    "Rodrigo Alvarado - 16106\n",
    "\n",
    "Marco Flores - 16260"
   ]
  },
  {
   "cell_type": "markdown",
   "metadata": {
    "colab_type": "text",
    "id": "lrKXYq15jsou"
   },
   "source": [
    "# Introducción"
   ]
  },
  {
   "cell_type": "markdown",
   "metadata": {
    "colab_type": "text",
    "id": "1DIvcwoxhGUW"
   },
   "source": [
    "**Retinopatía Diabética**\n",
    "\n",
    "La retinopatía diabética (DR por sus siglas en inglés) es una condición exclusiva de las personas diabéticas, donde los vasos sanguíneos de la retina se ven afectados por los altos niveles de azúcar, dificultando la visión y eventualmente causando ceguera. Es una de las complicaciones oftalmológicas de la diabetes, junto con las cataratas y el glaucoma de ángulo abierto. La condición puede causar otras complicaciones en el ojo, donde resaltan el edema diabético macular y el glaucoma neovascular. \n",
    "\n",
    "**Síntomas**\n",
    "\n",
    "La DR no muestra síntomas en sus primeras etapas, pero conforme avanza, comienza a mostrar sangrado en el vítreo de la retina, causado por el daño a los vasos sanguíneos. Para el paciente, esto suele verse como manchas oscuras en su visión que forman patrones similares a los de telarañas. Para poder determinar si un paciente tiene DR, se hace una dilatación de pupilas, lo que permite examinar a detalle la retina y determinar si hay sangrado, por mínimo que sea.\n",
    "\n",
    "Aunque el sangrado puede sanar por su cuenta, se debe tratar lo antes posible ya que existe un riesgo de dañar permanentemente la retina y que suceda nuevamente el sangrado.\n",
    "\n",
    "**¿Cómo se ve la enfermedad?**\n",
    "\n",
    "![alt text](https://media.nature.com/m685/nature-assets/nrdp/2016/nrdp201612/images_hires/nrdp201612-f4.jpg)\n",
    "\n",
    "El grado de la enfermedad se puede determinar principalmente por el nivel de sangrado. En las figuras a) y b) se pueden ver retinopatías leves no proliferativas, caracterizadas por una hemorragias leves, donde también se pueden ver algunos microaneurismas. En la figura c), se puede ver una retinopatía diabética proliferativa, con un grado de hemorragia considerablemente mayor, cicatrización y daño a la retina, y la formación de nuevos vasos sanguíneos en el disco óptico, que pueden interferir con la visión. En la figura d), la condición ha avanzado lo suficiente para causar un edema diabético macular. En esta figura se puede ver bastante daño a la retina y bastante sangrado en varias áreas, así como la inflamación de los vasos sanguíneos (Wong *et al.* 2016). \n",
    "\n",
    "**Fuentes**\n",
    "\n",
    "National Eye Institute. (2019). *Diabetic Retinopathy*. Recuperado de: https://nei.nih.gov/learn-about-eye-health/eye-conditions-and-diseases/diabetic-retinopathy\n",
    "\n",
    "Wong, T. Y., Cheung, C. M. G., Larsen, M., Sharma, S., y Simó, S. (2016). Diabetic retinopathy. *Nature Reviews Disease Primers, 2,* 16012. doi:10.1038/nrdp.2016.12"
   ]
  },
  {
   "cell_type": "markdown",
   "metadata": {
    "colab_type": "text",
    "id": "9nDFueIcvXJ4"
   },
   "source": [
    "# Análisis Exploratorio y Preprocesamiento de Imágenes\n",
    "*El análisis exploratorio y balanceo de las imágenes se encuentra en el archivo adjunto en R.*"
   ]
  },
  {
   "cell_type": "markdown",
   "metadata": {
    "colab_type": "text",
    "id": "ftVAaYdLdHnq"
   },
   "source": [
    "Para determinar la distribución de las clasificaciones de las imágenes, se evaluó la frecuencia con la que aparecía cada categoría:\n",
    "\n",
    "0: 1805\n",
    "1: 370\n",
    "2: 999\n",
    "3: 193\n",
    "4: 295\n",
    "\n",
    "\n",
    "\n",
    "Debido a que las imágenes donde no se muestra retinopatía de ningún tipo y aquellas con retinopatía moderada tienen una considerable proporción de imágenes más grande, se procedió a balancear obteniendo imágenes aleatorias de estas categorías para tener, en promedio, 300 imágenes de cada una.\n",
    "\n",
    "0: 299\n",
    "1: 370\n",
    "2: 299\n",
    "3: 193\n",
    "4: 295\n",
    "\n",
    "Este nuevo dataset balanceado se almacenó en el archivo *trainBalanced.csv*.\n"
   ]
  },
  {
   "cell_type": "code",
   "execution_count": 0,
   "metadata": {
    "colab": {
     "base_uri": "https://localhost:8080/",
     "height": 34
    },
    "colab_type": "code",
    "id": "Y4EqEJK9iJhb",
    "outputId": "0b1b3b25-1270-4d23-ec1e-bfa8c29cb9f5"
   },
   "outputs": [
    {
     "name": "stdout",
     "output_type": "stream",
     "text": [
      "Mounted at /content/drive\n"
     ]
    }
   ],
   "source": [
    "from google.colab import drive\n",
    "drive.mount(\"/content/drive\", force_remount=True)"
   ]
  },
  {
   "cell_type": "code",
   "execution_count": 0,
   "metadata": {
    "colab": {
     "base_uri": "https://localhost:8080/",
     "height": 34
    },
    "colab_type": "code",
    "id": "OZC3Yni7rvEo",
    "outputId": "fd6a3b32-f209-4c92-f57f-191ab075a13a"
   },
   "outputs": [
    {
     "name": "stdout",
     "output_type": "stream",
     "text": [
      "['train.csv', 'sample_submission.csv', 'test.csv', 'train_images', 'test_images', 'trainBalanced.csv']\n"
     ]
    }
   ],
   "source": [
    "# Corroborando conexión al dataset en Drive\n",
    "import os\n",
    "print(os.listdir(\"drive/My Drive/Dataset Retinopatía Diabética\"))"
   ]
  },
  {
   "cell_type": "code",
   "execution_count": 0,
   "metadata": {
    "colab": {
     "base_uri": "https://localhost:8080/",
     "height": 34
    },
    "colab_type": "code",
    "id": "rbkxH8hfrYJR",
    "outputId": "713d105e-961c-4127-d0af-7d8542f12280"
   },
   "outputs": [
    {
     "name": "stderr",
     "output_type": "stream",
     "text": [
      "Using TensorFlow backend.\n"
     ]
    }
   ],
   "source": [
    "# Bibliotecas para NN\n",
    "import keras\n",
    "from keras.models import Sequential\n",
    "from keras.layers import Dense, Dropout, Flatten\n",
    "from keras.layers import Conv2D, MaxPooling2D\n",
    "from keras.utils import to_categorical\n",
    "from keras.preprocessing import image\n",
    "import numpy as np\n",
    "import pandas as pd\n",
    "import matplotlib.pyplot as plt\n",
    "from sklearn.model_selection import train_test_split\n",
    "from keras.utils import to_categorical\n",
    "from tqdm import tqdm"
   ]
  },
  {
   "cell_type": "code",
   "execution_count": 0,
   "metadata": {
    "colab": {
     "base_uri": "https://localhost:8080/",
     "height": 34
    },
    "colab_type": "code",
    "id": "Aw9ZQnhzte66",
    "outputId": "d23630f7-3d30-470e-deba-23bf3cdbe081"
   },
   "outputs": [
    {
     "data": {
      "text/plain": [
       "'1df0431bfa73'"
      ]
     },
     "execution_count": 4,
     "metadata": {
      "tags": []
     },
     "output_type": "execute_result"
    }
   ],
   "source": [
    "# Obtención de la lista de imágenes\n",
    "train = pd.read_csv('drive/My Drive/Dataset Retinopatía Diabética/trainBalanced.csv')\n",
    "train['id_code'][0]"
   ]
  },
  {
   "cell_type": "markdown",
   "metadata": {
    "colab_type": "text",
    "id": "iEeEviiQ-WUr"
   },
   "source": [
    "Para procesar las imágenes, se colocaron todas a un tamaño de 360x360, el cual fue determinado como aceptable por encontrarse entre los parámetros de procesamiento más usados (y computables) sin sacrificar demasiado la calidad de la imagen (seguía siendo clara a simple vista)"
   ]
  },
  {
   "cell_type": "code",
   "execution_count": 0,
   "metadata": {
    "colab": {
     "base_uri": "https://localhost:8080/",
     "height": 34
    },
    "colab_type": "code",
    "id": "4isEXXWruAhT",
    "outputId": "367575cc-cbc7-4ced-fee0-8fd45c2caaa2"
   },
   "outputs": [
    {
     "name": "stderr",
     "output_type": "stream",
     "text": [
      "100%|██████████| 1456/1456 [03:15<00:00,  7.46it/s]\n"
     ]
    }
   ],
   "source": [
    "# Procesamiento de imágenes\n",
    "train_image = []\n",
    "for i in tqdm(range(train.shape[0])):\n",
    "    img = image.load_img('drive/My Drive/Dataset Retinopatía Diabética/train_images/'+ train['id_code'][i] +'.png', target_size=(360,360, 1), color_mode=\"grayscale\")\n",
    "    img = image.img_to_array(img)\n",
    "    img = img/255\n",
    "    train_image.append(img)\n",
    "X = np.array(train_image)"
   ]
  },
  {
   "cell_type": "code",
   "execution_count": 0,
   "metadata": {
    "colab": {
     "base_uri": "https://localhost:8080/",
     "height": 879
    },
    "colab_type": "code",
    "id": "zNmYpSOM7O2M",
    "outputId": "8ed93ce8-4f21-4a16-b091-7f2f73192c0a"
   },
   "outputs": [
    {
     "data": {
      "text/plain": [
       "array([[[0.],\n",
       "        [0.],\n",
       "        [0.],\n",
       "        ...,\n",
       "        [0.],\n",
       "        [0.],\n",
       "        [0.]],\n",
       "\n",
       "       [[0.],\n",
       "        [0.],\n",
       "        [0.],\n",
       "        ...,\n",
       "        [0.],\n",
       "        [0.],\n",
       "        [0.]],\n",
       "\n",
       "       [[0.],\n",
       "        [0.],\n",
       "        [0.],\n",
       "        ...,\n",
       "        [0.],\n",
       "        [0.],\n",
       "        [0.]],\n",
       "\n",
       "       ...,\n",
       "\n",
       "       [[0.],\n",
       "        [0.],\n",
       "        [0.],\n",
       "        ...,\n",
       "        [0.],\n",
       "        [0.],\n",
       "        [0.]],\n",
       "\n",
       "       [[0.],\n",
       "        [0.],\n",
       "        [0.],\n",
       "        ...,\n",
       "        [0.],\n",
       "        [0.],\n",
       "        [0.]],\n",
       "\n",
       "       [[0.],\n",
       "        [0.],\n",
       "        [0.],\n",
       "        ...,\n",
       "        [0.],\n",
       "        [0.],\n",
       "        [0.]]], dtype=float32)"
      ]
     },
     "execution_count": 6,
     "metadata": {
      "tags": []
     },
     "output_type": "execute_result"
    }
   ],
   "source": [
    "# Corroborando que se obtuvo el array de imágenes procesadas\n",
    "X[0]"
   ]
  },
  {
   "cell_type": "code",
   "execution_count": 0,
   "metadata": {
    "colab": {},
    "colab_type": "code",
    "id": "oQiyZJLFLLbc"
   },
   "outputs": [],
   "source": [
    "# Conversión del tipo de dato para la clasificación\n",
    "y = train['diagnosis'].values\n",
    "y = to_categorical(y)"
   ]
  },
  {
   "cell_type": "code",
   "execution_count": 0,
   "metadata": {
    "colab": {},
    "colab_type": "code",
    "id": "o9ZXBWQXWjcv"
   },
   "outputs": [],
   "source": [
    "# Creación del conjunto de entrenamiento y de prueba\n",
    "# Se trabajará con el 70% para entrenamiento y el 30% para validación\n",
    "X_train, X_test, y_train, y_test = train_test_split(X, y, random_state=42, test_size=0.3)"
   ]
  },
  {
   "cell_type": "markdown",
   "metadata": {
    "colab_type": "text",
    "id": "gIxWMV42_vsF"
   },
   "source": [
    "# Modelo Simple - Simple Neural Network"
   ]
  },
  {
   "cell_type": "code",
   "execution_count": 0,
   "metadata": {
    "colab": {},
    "colab_type": "code",
    "id": "W2UvybVJ_z4C"
   },
   "outputs": [],
   "source": [
    "simple_model = Sequential()\n",
    "simple_model.add(Dense(32, kernel_size=(3, 3),activation='relu',input_shape=(360,360,1)))\n",
    "simple_model.add(Dense(5, activation='softmax'))"
   ]
  },
  {
   "cell_type": "code",
   "execution_count": 0,
   "metadata": {
    "colab": {},
    "colab_type": "code",
    "id": "7NMUGPnq_1M5"
   },
   "outputs": [],
   "source": [
    "simple_model.compile(loss='categorical_crossentropy',optimizer='Adam',metrics=['accuracy'])"
   ]
  },
  {
   "cell_type": "code",
   "execution_count": 0,
   "metadata": {
    "colab": {},
    "colab_type": "code",
    "id": "gz2bI_8f_6UL"
   },
   "outputs": [],
   "source": [
    "simple_model.fit(X_train, y_train, epochs=10, validation_data=(X_test, y_test))"
   ]
  },
  {
   "cell_type": "markdown",
   "metadata": {
    "colab_type": "text",
    "id": "BGckgU4hs31x"
   },
   "source": [
    "# Modelo con Deep Learning - Convolutional Neural Network"
   ]
  },
  {
   "cell_type": "code",
   "execution_count": 0,
   "metadata": {
    "colab": {
     "base_uri": "https://localhost:8080/",
     "height": 266
    },
    "colab_type": "code",
    "id": "J69nRHSJW46R",
    "outputId": "a7c69bb2-4e9e-4b6a-b1fb-cdc9f0688c62"
   },
   "outputs": [
    {
     "name": "stdout",
     "output_type": "stream",
     "text": [
      "WARNING:tensorflow:From /usr/local/lib/python3.6/dist-packages/keras/backend/tensorflow_backend.py:66: The name tf.get_default_graph is deprecated. Please use tf.compat.v1.get_default_graph instead.\n",
      "\n",
      "WARNING:tensorflow:From /usr/local/lib/python3.6/dist-packages/keras/backend/tensorflow_backend.py:541: The name tf.placeholder is deprecated. Please use tf.compat.v1.placeholder instead.\n",
      "\n",
      "WARNING:tensorflow:From /usr/local/lib/python3.6/dist-packages/keras/backend/tensorflow_backend.py:4432: The name tf.random_uniform is deprecated. Please use tf.random.uniform instead.\n",
      "\n",
      "WARNING:tensorflow:From /usr/local/lib/python3.6/dist-packages/keras/backend/tensorflow_backend.py:4267: The name tf.nn.max_pool is deprecated. Please use tf.nn.max_pool2d instead.\n",
      "\n",
      "WARNING:tensorflow:From /usr/local/lib/python3.6/dist-packages/keras/backend/tensorflow_backend.py:148: The name tf.placeholder_with_default is deprecated. Please use tf.compat.v1.placeholder_with_default instead.\n",
      "\n",
      "WARNING:tensorflow:From /usr/local/lib/python3.6/dist-packages/keras/backend/tensorflow_backend.py:3733: calling dropout (from tensorflow.python.ops.nn_ops) with keep_prob is deprecated and will be removed in a future version.\n",
      "Instructions for updating:\n",
      "Please use `rate` instead of `keep_prob`. Rate should be set to `rate = 1 - keep_prob`.\n"
     ]
    }
   ],
   "source": [
    "# Creación del modelo 1 -- Este fue el mejor con 10 épocas.\n",
    "model = Sequential()\n",
    "model.add(Conv2D(32, kernel_size=(3, 3),activation='relu',input_shape=(360,360,1)))\n",
    "model.add(Conv2D(64, (3, 3), activation='relu'))\n",
    "model.add(MaxPooling2D(pool_size=(2, 2)))\n",
    "model.add(Dropout(rate = 0.25))\n",
    "model.add(Flatten())\n",
    "model.add(Dense(128, activation='relu'))\n",
    "model.add(Dropout(rate = 0.5))\n",
    "model.add(Dense(5, activation='softmax'))"
   ]
  },
  {
   "cell_type": "code",
   "execution_count": 0,
   "metadata": {
    "colab": {
     "base_uri": "https://localhost:8080/",
     "height": 107
    },
    "colab_type": "code",
    "id": "Rc3LyWRGX4lM",
    "outputId": "0405e455-dfe8-4785-d04f-548dbda53c85"
   },
   "outputs": [
    {
     "name": "stdout",
     "output_type": "stream",
     "text": [
      "WARNING:tensorflow:From /usr/local/lib/python3.6/dist-packages/keras/optimizers.py:793: The name tf.train.Optimizer is deprecated. Please use tf.compat.v1.train.Optimizer instead.\n",
      "\n",
      "WARNING:tensorflow:From /usr/local/lib/python3.6/dist-packages/keras/backend/tensorflow_backend.py:3576: The name tf.log is deprecated. Please use tf.math.log instead.\n",
      "\n"
     ]
    }
   ],
   "source": [
    "model.compile(loss='categorical_crossentropy',optimizer='Adam',metrics=['accuracy'])"
   ]
  },
  {
   "cell_type": "code",
   "execution_count": 0,
   "metadata": {
    "colab": {
     "base_uri": "https://localhost:8080/",
     "height": 477
    },
    "colab_type": "code",
    "id": "lczQpYwjYWG6",
    "outputId": "128eebfd-7667-4eed-8557-169e7f4cc86c"
   },
   "outputs": [
    {
     "name": "stdout",
     "output_type": "stream",
     "text": [
      "WARNING:tensorflow:From /usr/local/lib/python3.6/dist-packages/tensorflow/python/ops/math_grad.py:1250: add_dispatch_support.<locals>.wrapper (from tensorflow.python.ops.array_ops) is deprecated and will be removed in a future version.\n",
      "Instructions for updating:\n",
      "Use tf.where in 2.0, which has the same broadcast rule as np.where\n",
      "Train on 1019 samples, validate on 437 samples\n",
      "Epoch 1/10\n",
      "1019/1019 [==============================] - 27s 27ms/step - loss: 3.3352 - acc: 0.3867 - val_loss: 1.2604 - val_acc: 0.5034\n",
      "Epoch 2/10\n",
      "1019/1019 [==============================] - 15s 14ms/step - loss: 1.1910 - acc: 0.5270 - val_loss: 1.2237 - val_acc: 0.5126\n",
      "Epoch 3/10\n",
      "1019/1019 [==============================] - 15s 14ms/step - loss: 1.1537 - acc: 0.5358 - val_loss: 1.2193 - val_acc: 0.5240\n",
      "Epoch 4/10\n",
      "1019/1019 [==============================] - 15s 15ms/step - loss: 1.1448 - acc: 0.5496 - val_loss: 1.2296 - val_acc: 0.5263\n",
      "Epoch 5/10\n",
      "1019/1019 [==============================] - 15s 15ms/step - loss: 1.0972 - acc: 0.5702 - val_loss: 1.2077 - val_acc: 0.5378\n",
      "Epoch 6/10\n",
      "1019/1019 [==============================] - 15s 15ms/step - loss: 1.0908 - acc: 0.5721 - val_loss: 1.2948 - val_acc: 0.5126\n",
      "Epoch 7/10\n",
      "1019/1019 [==============================] - 15s 15ms/step - loss: 1.1582 - acc: 0.5594 - val_loss: 1.2127 - val_acc: 0.5149\n",
      "Epoch 8/10\n",
      "1019/1019 [==============================] - 15s 15ms/step - loss: 1.0521 - acc: 0.5790 - val_loss: 1.2118 - val_acc: 0.5240\n",
      "Epoch 9/10\n",
      "1019/1019 [==============================] - 15s 15ms/step - loss: 1.0701 - acc: 0.5800 - val_loss: 1.2506 - val_acc: 0.5217\n",
      "Epoch 10/10\n",
      "1019/1019 [==============================] - 15s 15ms/step - loss: 1.0486 - acc: 0.5711 - val_loss: 1.2349 - val_acc: 0.5195\n"
     ]
    },
    {
     "data": {
      "text/plain": [
       "<keras.callbacks.History at 0x7fea66f2c860>"
      ]
     },
     "execution_count": 11,
     "metadata": {
      "tags": []
     },
     "output_type": "execute_result"
    }
   ],
   "source": [
    "model.fit(X_train, y_train, epochs=10, validation_data=(X_test, y_test))"
   ]
  },
  {
   "cell_type": "code",
   "execution_count": 0,
   "metadata": {
    "colab": {
     "base_uri": "https://localhost:8080/",
     "height": 932
    },
    "colab_type": "code",
    "id": "t-Z_PLXq5Zdz",
    "outputId": "6e0ad46d-e5ae-4e11-a31e-4b3cbd619bd0"
   },
   "outputs": [
    {
     "name": "stdout",
     "output_type": "stream",
     "text": [
      "Train on 1019 samples, validate on 437 samples\n",
      "Epoch 1/25\n",
      "1019/1019 [==============================] - 15s 15ms/step - loss: 1.0192 - acc: 0.6075 - val_loss: 1.2170 - val_acc: 0.5011\n",
      "Epoch 2/25\n",
      "1019/1019 [==============================] - 15s 15ms/step - loss: 0.9608 - acc: 0.6281 - val_loss: 1.2566 - val_acc: 0.5195\n",
      "Epoch 3/25\n",
      "1019/1019 [==============================] - 15s 15ms/step - loss: 0.9594 - acc: 0.6408 - val_loss: 1.2288 - val_acc: 0.5263\n",
      "Epoch 4/25\n",
      "1019/1019 [==============================] - 15s 15ms/step - loss: 0.9413 - acc: 0.6281 - val_loss: 1.2315 - val_acc: 0.5286\n",
      "Epoch 5/25\n",
      "1019/1019 [==============================] - 15s 15ms/step - loss: 0.8968 - acc: 0.6565 - val_loss: 1.2770 - val_acc: 0.5172\n",
      "Epoch 6/25\n",
      "1019/1019 [==============================] - 15s 15ms/step - loss: 0.9348 - acc: 0.6340 - val_loss: 1.2783 - val_acc: 0.5217\n",
      "Epoch 7/25\n",
      "1019/1019 [==============================] - 15s 15ms/step - loss: 0.8568 - acc: 0.6722 - val_loss: 1.2996 - val_acc: 0.5263\n",
      "Epoch 8/25\n",
      "1019/1019 [==============================] - 15s 15ms/step - loss: 0.7654 - acc: 0.7085 - val_loss: 1.2883 - val_acc: 0.5606\n",
      "Epoch 9/25\n",
      "1019/1019 [==============================] - 15s 15ms/step - loss: 0.7863 - acc: 0.6948 - val_loss: 1.3324 - val_acc: 0.5240\n",
      "Epoch 10/25\n",
      "1019/1019 [==============================] - 15s 15ms/step - loss: 0.6645 - acc: 0.7605 - val_loss: 1.3195 - val_acc: 0.5378\n",
      "Epoch 11/25\n",
      "1019/1019 [==============================] - 15s 15ms/step - loss: 0.5809 - acc: 0.7763 - val_loss: 1.3542 - val_acc: 0.5332\n",
      "Epoch 12/25\n",
      "1019/1019 [==============================] - 15s 15ms/step - loss: 0.5025 - acc: 0.8106 - val_loss: 1.5471 - val_acc: 0.5286\n",
      "Epoch 13/25\n",
      "1019/1019 [==============================] - 15s 15ms/step - loss: 0.4391 - acc: 0.8361 - val_loss: 1.5901 - val_acc: 0.5263\n",
      "Epoch 14/25\n",
      "1019/1019 [==============================] - 15s 15ms/step - loss: 0.3646 - acc: 0.8832 - val_loss: 1.4628 - val_acc: 0.5263\n",
      "Epoch 15/25\n",
      "1019/1019 [==============================] - 15s 15ms/step - loss: 0.2808 - acc: 0.9195 - val_loss: 1.4798 - val_acc: 0.5172\n",
      "Epoch 16/25\n",
      "1019/1019 [==============================] - 15s 15ms/step - loss: 0.3113 - acc: 0.8930 - val_loss: 1.6992 - val_acc: 0.5332\n",
      "Epoch 17/25\n",
      "1019/1019 [==============================] - 15s 15ms/step - loss: 0.2731 - acc: 0.9097 - val_loss: 1.7522 - val_acc: 0.5286\n",
      "Epoch 18/25\n",
      "1019/1019 [==============================] - 15s 15ms/step - loss: 0.2091 - acc: 0.9460 - val_loss: 1.6361 - val_acc: 0.5309\n",
      "Epoch 19/25\n",
      "1019/1019 [==============================] - 15s 15ms/step - loss: 0.1887 - acc: 0.9480 - val_loss: 1.9591 - val_acc: 0.5355\n",
      "Epoch 20/25\n",
      "1019/1019 [==============================] - 15s 15ms/step - loss: 0.1452 - acc: 0.9578 - val_loss: 1.7576 - val_acc: 0.5195\n",
      "Epoch 21/25\n",
      "1019/1019 [==============================] - 15s 15ms/step - loss: 0.1418 - acc: 0.9676 - val_loss: 1.7414 - val_acc: 0.5286\n",
      "Epoch 22/25\n",
      "1019/1019 [==============================] - 15s 15ms/step - loss: 0.1403 - acc: 0.9627 - val_loss: 1.8151 - val_acc: 0.5286\n",
      "Epoch 23/25\n",
      "1019/1019 [==============================] - 15s 15ms/step - loss: 0.1031 - acc: 0.9706 - val_loss: 1.9413 - val_acc: 0.5309\n",
      "Epoch 24/25\n",
      "1019/1019 [==============================] - 15s 15ms/step - loss: 0.0911 - acc: 0.9745 - val_loss: 1.9974 - val_acc: 0.5240\n",
      "Epoch 25/25\n",
      "1019/1019 [==============================] - 15s 15ms/step - loss: 0.0860 - acc: 0.9823 - val_loss: 2.1271 - val_acc: 0.5240\n"
     ]
    },
    {
     "data": {
      "text/plain": [
       "<keras.callbacks.History at 0x7fe9f671c940>"
      ]
     },
     "execution_count": 12,
     "metadata": {
      "tags": []
     },
     "output_type": "execute_result"
    }
   ],
   "source": [
    "model.fit(X_train, y_train, epochs=25, validation_data=(X_test, y_test))"
   ]
  },
  {
   "cell_type": "code",
   "execution_count": 0,
   "metadata": {
    "colab": {
     "base_uri": "https://localhost:8080/",
     "height": 1000
    },
    "colab_type": "code",
    "id": "eXn_Z2fw5q67",
    "outputId": "2514af22-2d2d-4b3c-a2af-0eac1c511fea"
   },
   "outputs": [
    {
     "name": "stdout",
     "output_type": "stream",
     "text": [
      "Train on 1019 samples, validate on 437 samples\n",
      "Epoch 1/50\n",
      "1019/1019 [==============================] - 15s 15ms/step - loss: 0.0743 - acc: 0.9804 - val_loss: 2.0744 - val_acc: 0.5286\n",
      "Epoch 2/50\n",
      "1019/1019 [==============================] - 16s 15ms/step - loss: 0.0767 - acc: 0.9823 - val_loss: 2.0981 - val_acc: 0.5400\n",
      "Epoch 3/50\n",
      "1019/1019 [==============================] - 15s 15ms/step - loss: 0.0672 - acc: 0.9872 - val_loss: 2.5215 - val_acc: 0.5332\n",
      "Epoch 4/50\n",
      "1019/1019 [==============================] - 15s 15ms/step - loss: 0.0459 - acc: 0.9882 - val_loss: 2.4517 - val_acc: 0.5446\n",
      "Epoch 5/50\n",
      "1019/1019 [==============================] - 15s 15ms/step - loss: 0.1219 - acc: 0.9735 - val_loss: 1.9245 - val_acc: 0.5286\n",
      "Epoch 6/50\n",
      "1019/1019 [==============================] - 15s 15ms/step - loss: 0.1107 - acc: 0.9666 - val_loss: 2.2815 - val_acc: 0.4943\n",
      "Epoch 7/50\n",
      "1019/1019 [==============================] - 15s 15ms/step - loss: 0.0993 - acc: 0.9715 - val_loss: 2.3162 - val_acc: 0.5240\n",
      "Epoch 8/50\n",
      "1019/1019 [==============================] - 15s 15ms/step - loss: 0.0686 - acc: 0.9823 - val_loss: 2.0823 - val_acc: 0.5400\n",
      "Epoch 9/50\n",
      "1019/1019 [==============================] - 15s 15ms/step - loss: 0.0528 - acc: 0.9931 - val_loss: 2.4026 - val_acc: 0.5446\n",
      "Epoch 10/50\n",
      "1019/1019 [==============================] - 15s 15ms/step - loss: 0.0580 - acc: 0.9833 - val_loss: 2.1273 - val_acc: 0.5332\n",
      "Epoch 11/50\n",
      "1019/1019 [==============================] - 15s 15ms/step - loss: 0.0620 - acc: 0.9872 - val_loss: 2.4343 - val_acc: 0.5423\n",
      "Epoch 12/50\n",
      "1019/1019 [==============================] - 15s 15ms/step - loss: 0.0670 - acc: 0.9853 - val_loss: 2.4152 - val_acc: 0.5355\n",
      "Epoch 13/50\n",
      "1019/1019 [==============================] - 15s 15ms/step - loss: 0.0487 - acc: 0.9892 - val_loss: 2.4124 - val_acc: 0.5446\n",
      "Epoch 14/50\n",
      "1019/1019 [==============================] - 15s 15ms/step - loss: 0.0606 - acc: 0.9863 - val_loss: 2.3339 - val_acc: 0.5515\n",
      "Epoch 15/50\n",
      "1019/1019 [==============================] - 15s 15ms/step - loss: 0.0518 - acc: 0.9872 - val_loss: 2.5312 - val_acc: 0.5423\n",
      "Epoch 16/50\n",
      "1019/1019 [==============================] - 15s 15ms/step - loss: 0.0428 - acc: 0.9902 - val_loss: 2.6637 - val_acc: 0.5217\n",
      "Epoch 17/50\n",
      "1019/1019 [==============================] - 15s 15ms/step - loss: 0.0381 - acc: 0.9882 - val_loss: 2.4440 - val_acc: 0.5355\n",
      "Epoch 18/50\n",
      "1019/1019 [==============================] - 15s 15ms/step - loss: 0.0621 - acc: 0.9863 - val_loss: 2.2778 - val_acc: 0.5309\n",
      "Epoch 19/50\n",
      "1019/1019 [==============================] - 15s 15ms/step - loss: 0.0469 - acc: 0.9882 - val_loss: 2.6253 - val_acc: 0.5309\n",
      "Epoch 20/50\n",
      "1019/1019 [==============================] - 15s 15ms/step - loss: 0.0519 - acc: 0.9882 - val_loss: 2.2805 - val_acc: 0.5400\n",
      "Epoch 21/50\n",
      "1019/1019 [==============================] - 15s 15ms/step - loss: 0.0457 - acc: 0.9872 - val_loss: 2.4646 - val_acc: 0.5423\n",
      "Epoch 22/50\n",
      "1019/1019 [==============================] - 15s 15ms/step - loss: 0.0417 - acc: 0.9892 - val_loss: 2.1430 - val_acc: 0.5240\n",
      "Epoch 23/50\n",
      "1019/1019 [==============================] - 15s 15ms/step - loss: 0.0428 - acc: 0.9892 - val_loss: 2.5324 - val_acc: 0.5240\n",
      "Epoch 24/50\n",
      "1019/1019 [==============================] - 15s 15ms/step - loss: 0.0483 - acc: 0.9843 - val_loss: 2.3466 - val_acc: 0.5378\n",
      "Epoch 25/50\n",
      "1019/1019 [==============================] - 15s 15ms/step - loss: 0.0461 - acc: 0.9833 - val_loss: 2.8039 - val_acc: 0.5400\n",
      "Epoch 26/50\n",
      "1019/1019 [==============================] - 15s 15ms/step - loss: 0.0531 - acc: 0.9863 - val_loss: 2.1756 - val_acc: 0.5263\n",
      "Epoch 27/50\n",
      "1019/1019 [==============================] - 15s 15ms/step - loss: 0.0424 - acc: 0.9872 - val_loss: 2.7953 - val_acc: 0.5149\n",
      "Epoch 28/50\n",
      " 480/1019 [=============>................] - ETA: 7s - loss: 0.0317 - acc: 0.9917"
     ]
    }
   ],
   "source": [
    "model.fit(X_train, y_train, epochs=50, validation_data=(X_test, y_test))"
   ]
  },
  {
   "cell_type": "code",
   "execution_count": 0,
   "metadata": {
    "colab": {
     "base_uri": "https://localhost:8080/",
     "height": 72
    },
    "colab_type": "code",
    "id": "JnjWmmempJ6Y",
    "outputId": "7c7cb400-8a48-4e18-a5a3-afb7a4745f6e"
   },
   "outputs": [
    {
     "name": "stdout",
     "output_type": "stream",
     "text": [
      "WARNING:tensorflow:Large dropout rate: 0.75 (>0.5). In TensorFlow 2.x, dropout() uses dropout rate instead of keep_prob. Please ensure that this is intended.\n",
      "WARNING:tensorflow:Large dropout rate: 0.75 (>0.5). In TensorFlow 2.x, dropout() uses dropout rate instead of keep_prob. Please ensure that this is intended.\n"
     ]
    }
   ],
   "source": [
    "# Creación del modelo 2 \n",
    "model = Sequential()\n",
    "model.add(Conv2D(32, kernel_size=(3, 3),activation='relu',input_shape=(360,360,1)))\n",
    "model.add(Conv2D(64, (3, 3), activation='relu'))\n",
    "model.add(MaxPooling2D(pool_size=(3, 3)))\n",
    "model.add(Dropout(rate = 0.75))\n",
    "model.add(Flatten())\n",
    "model.add(Dense(256, activation='relu'))\n",
    "model.add(Dropout(rate = 0.75))\n",
    "model.add(Dense(5, activation='softmax'))"
   ]
  },
  {
   "cell_type": "code",
   "execution_count": 0,
   "metadata": {
    "colab": {},
    "colab_type": "code",
    "id": "wLUfcPWEpHHl"
   },
   "outputs": [],
   "source": [
    "model.compile(loss='categorical_crossentropy',optimizer='Adam',metrics=['accuracy'])"
   ]
  },
  {
   "cell_type": "code",
   "execution_count": 0,
   "metadata": {
    "colab": {
     "base_uri": "https://localhost:8080/",
     "height": 404
    },
    "colab_type": "code",
    "id": "YckjG8k2pHHo",
    "outputId": "0ee54c14-6974-4aa1-f50c-d659e1e944cd"
   },
   "outputs": [
    {
     "name": "stdout",
     "output_type": "stream",
     "text": [
      "Train on 1019 samples, validate on 437 samples\n",
      "Epoch 1/10\n",
      "1019/1019 [==============================] - 19s 19ms/step - loss: 1.9801 - acc: 0.4210 - val_loss: 1.2553 - val_acc: 0.4989\n",
      "Epoch 2/10\n",
      "1019/1019 [==============================] - 14s 14ms/step - loss: 1.2523 - acc: 0.5132 - val_loss: 1.2522 - val_acc: 0.5126\n",
      "Epoch 3/10\n",
      "1019/1019 [==============================] - 14s 14ms/step - loss: 1.2291 - acc: 0.5309 - val_loss: 1.2314 - val_acc: 0.5195\n",
      "Epoch 4/10\n",
      "1019/1019 [==============================] - 14s 14ms/step - loss: 1.1896 - acc: 0.5270 - val_loss: 1.2315 - val_acc: 0.5172\n",
      "Epoch 5/10\n",
      "1019/1019 [==============================] - 14s 14ms/step - loss: 1.2088 - acc: 0.5437 - val_loss: 1.2192 - val_acc: 0.5172\n",
      "Epoch 6/10\n",
      "1019/1019 [==============================] - 14s 14ms/step - loss: 1.1695 - acc: 0.5388 - val_loss: 1.2111 - val_acc: 0.5240\n",
      "Epoch 7/10\n",
      "1019/1019 [==============================] - 14s 14ms/step - loss: 1.1459 - acc: 0.5476 - val_loss: 1.2129 - val_acc: 0.5355\n",
      "Epoch 8/10\n",
      "1019/1019 [==============================] - 14s 14ms/step - loss: 1.1567 - acc: 0.5417 - val_loss: 1.2006 - val_acc: 0.5286\n",
      "Epoch 9/10\n",
      "1019/1019 [==============================] - 14s 14ms/step - loss: 1.1356 - acc: 0.5604 - val_loss: 1.2009 - val_acc: 0.5332\n",
      "Epoch 10/10\n",
      "1019/1019 [==============================] - 14s 14ms/step - loss: 1.1278 - acc: 0.5554 - val_loss: 1.1916 - val_acc: 0.5240\n"
     ]
    },
    {
     "data": {
      "text/plain": [
       "<keras.callbacks.History at 0x7f2e703e3fd0>"
      ]
     },
     "execution_count": 14,
     "metadata": {
      "tags": []
     },
     "output_type": "execute_result"
    }
   ],
   "source": [
    "model.fit(X_train, y_train, epochs=10, validation_data=(X_test, y_test))"
   ]
  },
  {
   "cell_type": "code",
   "execution_count": 0,
   "metadata": {
    "colab": {},
    "colab_type": "code",
    "id": "4I5OuEYWr1p0"
   },
   "outputs": [],
   "source": [
    "# Creación del modelo 3 \n",
    "model = Sequential()\n",
    "model.add(Conv2D(32, kernel_size=(3, 3),activation='relu',input_shape=(360,360,1)))\n",
    "model.add(Conv2D(64, (3, 3), activation='relu'))\n",
    "model.add(MaxPooling2D(pool_size=(3, 3)))\n",
    "model.add(Dropout(rate = 0.25))\n",
    "model.add(Flatten())\n",
    "model.add(Dense(256, activation='relu'))\n",
    "model.add(Dropout(rate = 0.25))\n",
    "model.add(Dense(5, activation='softmax'))"
   ]
  },
  {
   "cell_type": "code",
   "execution_count": 0,
   "metadata": {
    "colab": {
     "base_uri": "https://localhost:8080/",
     "height": 107
    },
    "colab_type": "code",
    "id": "qdhuJCOqr1p5",
    "outputId": "68fdd2ac-871d-441d-a8fd-45c44d936f23"
   },
   "outputs": [
    {
     "name": "stdout",
     "output_type": "stream",
     "text": [
      "WARNING:tensorflow:From /usr/local/lib/python3.6/dist-packages/keras/optimizers.py:793: The name tf.train.Optimizer is deprecated. Please use tf.compat.v1.train.Optimizer instead.\n",
      "\n",
      "WARNING:tensorflow:From /usr/local/lib/python3.6/dist-packages/keras/backend/tensorflow_backend.py:3576: The name tf.log is deprecated. Please use tf.math.log instead.\n",
      "\n"
     ]
    }
   ],
   "source": [
    "model.compile(loss='categorical_crossentropy',optimizer='Adam',metrics=['accuracy'])"
   ]
  },
  {
   "cell_type": "code",
   "execution_count": 0,
   "metadata": {
    "colab": {
     "base_uri": "https://localhost:8080/",
     "height": 653
    },
    "colab_type": "code",
    "id": "3_cbjGuTr1p9",
    "outputId": "fdf2b3c0-4bdf-42b6-f02c-3c0ef001c1d1"
   },
   "outputs": [
    {
     "name": "stdout",
     "output_type": "stream",
     "text": [
      "WARNING:tensorflow:From /usr/local/lib/python3.6/dist-packages/tensorflow/python/ops/math_grad.py:1250: add_dispatch_support.<locals>.wrapper (from tensorflow.python.ops.array_ops) is deprecated and will be removed in a future version.\n",
      "Instructions for updating:\n",
      "Use tf.where in 2.0, which has the same broadcast rule as np.where\n",
      "Train on 1019 samples, validate on 437 samples\n",
      "Epoch 1/15\n",
      "1019/1019 [==============================] - 26s 26ms/step - loss: 3.5179 - acc: 0.4073 - val_loss: 1.3123 - val_acc: 0.5057\n",
      "Epoch 2/15\n",
      "1019/1019 [==============================] - 13s 13ms/step - loss: 1.1787 - acc: 0.5437 - val_loss: 1.2253 - val_acc: 0.5103\n",
      "Epoch 3/15\n",
      "1019/1019 [==============================] - 14s 13ms/step - loss: 1.1223 - acc: 0.5456 - val_loss: 1.2191 - val_acc: 0.5217\n",
      "Epoch 4/15\n",
      "1019/1019 [==============================] - 14s 14ms/step - loss: 1.0884 - acc: 0.5633 - val_loss: 1.2345 - val_acc: 0.5103\n",
      "Epoch 5/15\n",
      "1019/1019 [==============================] - 14s 14ms/step - loss: 1.0668 - acc: 0.5751 - val_loss: 1.2245 - val_acc: 0.5172\n",
      "Epoch 6/15\n",
      "1019/1019 [==============================] - 14s 14ms/step - loss: 1.0611 - acc: 0.5819 - val_loss: 1.2172 - val_acc: 0.5309\n",
      "Epoch 7/15\n",
      "1019/1019 [==============================] - 14s 14ms/step - loss: 1.0325 - acc: 0.5829 - val_loss: 1.2340 - val_acc: 0.5378\n",
      "Epoch 8/15\n",
      "1019/1019 [==============================] - 14s 14ms/step - loss: 0.9954 - acc: 0.6183 - val_loss: 1.2480 - val_acc: 0.4989\n",
      "Epoch 9/15\n",
      "1019/1019 [==============================] - 14s 14ms/step - loss: 0.9593 - acc: 0.6212 - val_loss: 1.2154 - val_acc: 0.5309\n",
      "Epoch 10/15\n",
      "1019/1019 [==============================] - 14s 14ms/step - loss: 0.9503 - acc: 0.6281 - val_loss: 1.2336 - val_acc: 0.5309\n",
      "Epoch 11/15\n",
      "1019/1019 [==============================] - 14s 14ms/step - loss: 0.8414 - acc: 0.6850 - val_loss: 1.3010 - val_acc: 0.5172\n",
      "Epoch 12/15\n",
      "1019/1019 [==============================] - 14s 14ms/step - loss: 0.7374 - acc: 0.7174 - val_loss: 1.4378 - val_acc: 0.5378\n",
      "Epoch 13/15\n",
      "1019/1019 [==============================] - 14s 14ms/step - loss: 0.6562 - acc: 0.7635 - val_loss: 1.3056 - val_acc: 0.5332\n",
      "Epoch 14/15\n",
      "1019/1019 [==============================] - 14s 14ms/step - loss: 0.6361 - acc: 0.7645 - val_loss: 1.3665 - val_acc: 0.4851\n",
      "Epoch 15/15\n",
      "1019/1019 [==============================] - 14s 14ms/step - loss: 0.8320 - acc: 0.6732 - val_loss: 1.2911 - val_acc: 0.5126\n"
     ]
    },
    {
     "data": {
      "text/plain": [
       "<keras.callbacks.History at 0x7fd2ef7b68d0>"
      ]
     },
     "execution_count": 13,
     "metadata": {
      "tags": []
     },
     "output_type": "execute_result"
    }
   ],
   "source": [
    "model.fit(X_train, y_train, epochs=15, validation_data=(X_test, y_test))"
   ]
  },
  {
   "cell_type": "code",
   "execution_count": 0,
   "metadata": {
    "colab": {},
    "colab_type": "code",
    "id": "pHg0CIqkreX6"
   },
   "outputs": [],
   "source": [
    "# Creación del modelo 4 \n",
    "model = Sequential()\n",
    "model.add(Conv2D(32, kernel_size=(3, 3),activation='relu',input_shape=(360,360,1)))\n",
    "model.add(Conv2D(64, (2, 2), activation='relu'))\n",
    "model.add(MaxPooling2D(pool_size=(3, 3)))\n",
    "model.add(Dropout(rate = 0.50))\n",
    "model.add(Flatten())\n",
    "model.add(Dense(128, activation='relu'))\n",
    "model.add(Dropout(rate = 0.50))\n",
    "model.add(Dense(5, activation='relu'))"
   ]
  },
  {
   "cell_type": "code",
   "execution_count": 0,
   "metadata": {
    "colab": {},
    "colab_type": "code",
    "id": "0JNxssGKreYA"
   },
   "outputs": [],
   "source": [
    "model.compile(loss='categorical_crossentropy',optimizer='Adam',metrics=['accuracy'])"
   ]
  },
  {
   "cell_type": "code",
   "execution_count": 0,
   "metadata": {
    "colab": {
     "base_uri": "https://localhost:8080/",
     "height": 404
    },
    "colab_type": "code",
    "id": "LZpL_gZ1reYE",
    "outputId": "f2501a4a-6310-4ab5-a5d6-3e400034c2eb"
   },
   "outputs": [
    {
     "name": "stdout",
     "output_type": "stream",
     "text": [
      "Train on 1019 samples, validate on 437 samples\n",
      "Epoch 1/10\n",
      "1019/1019 [==============================] - 14s 14ms/step - loss: 3.2273 - acc: 0.2296 - val_loss: 1.6158 - val_acc: 0.2426\n",
      "Epoch 2/10\n",
      "1019/1019 [==============================] - 9s 9ms/step - loss: 1.6537 - acc: 0.2257 - val_loss: 1.5760 - val_acc: 0.2677\n",
      "Epoch 3/10\n",
      "1019/1019 [==============================] - 9s 9ms/step - loss: 1.6515 - acc: 0.2483 - val_loss: 1.5340 - val_acc: 0.3295\n",
      "Epoch 4/10\n",
      "1019/1019 [==============================] - 9s 9ms/step - loss: 1.6065 - acc: 0.3140 - val_loss: 1.5115 - val_acc: 0.4508\n",
      "Epoch 5/10\n",
      "1019/1019 [==============================] - 9s 9ms/step - loss: 1.6274 - acc: 0.3327 - val_loss: 1.4143 - val_acc: 0.3936\n",
      "Epoch 6/10\n",
      "1019/1019 [==============================] - 10s 9ms/step - loss: 1.5874 - acc: 0.3925 - val_loss: 1.4152 - val_acc: 0.4508\n",
      "Epoch 7/10\n",
      "1019/1019 [==============================] - 10s 9ms/step - loss: 1.5191 - acc: 0.3965 - val_loss: 1.3902 - val_acc: 0.4577\n",
      "Epoch 8/10\n",
      "1019/1019 [==============================] - 10s 9ms/step - loss: 1.4157 - acc: 0.4455 - val_loss: 1.4189 - val_acc: 0.4096\n",
      "Epoch 9/10\n",
      "1019/1019 [==============================] - 10s 9ms/step - loss: 1.4804 - acc: 0.4014 - val_loss: 1.5246 - val_acc: 0.4439\n",
      "Epoch 10/10\n",
      "1019/1019 [==============================] - 10s 9ms/step - loss: 1.6190 - acc: 0.2434 - val_loss: 1.5534 - val_acc: 0.4462\n"
     ]
    },
    {
     "data": {
      "text/plain": [
       "<keras.callbacks.History at 0x7f89d82eb978>"
      ]
     },
     "execution_count": 15,
     "metadata": {
      "tags": []
     },
     "output_type": "execute_result"
    }
   ],
   "source": [
    "model.fit(X_train, y_train, epochs=10, validation_data=(X_test, y_test))"
   ]
  },
  {
   "cell_type": "code",
   "execution_count": 0,
   "metadata": {
    "colab": {},
    "colab_type": "code",
    "id": "xDqLg4SD_I1F"
   },
   "outputs": [],
   "source": [
    "simple_model = Sequential()\n",
    "simple_model.add(Dense(32, kernel_size=(3, 3),activation='relu',input_shape=(360,360,1)))\n",
    "simple_model.add(Dense(5, activation='softmax'))\n",
    "\n",
    "simple_model.compile(loss='categorical_crossentropy',optimizer='Adam',metrics=['accuracy'])"
   ]
  },
  {
   "cell_type": "code",
   "execution_count": 0,
   "metadata": {
    "colab": {},
    "colab_type": "code",
    "id": "kdOi9nDe_ex8"
   },
   "outputs": [],
   "source": [
    "simple_model.fit(X_train, y_train, epochs=10, validation_data=(X_test, y_test))"
   ]
  },
  {
   "cell_type": "markdown",
   "metadata": {
    "colab_type": "text",
    "id": "iWdxubtN57yI"
   },
   "source": [
    "# Análisis de los modelos obtenidos\n",
    "\n",
    "Los modelos obtenidos mostraron una exactitud ligeramente superior al 50%. Esto se debe en parte a que, con el dataset balanceado para evitar cualquier sesgo en el modelo, se disminuía considerablemente el número de imágenes disponibles para entrenar a la red convolucional. \n",
    "\n",
    "Al jugar con los hiperparámetros, se encontró que el ideal era trabajar con un pool de dimensión 2x2, una capa de densidad de 128 nodos, y la función de activación softmax para la capa final. El número de épocas ideal para el entrenamiento era de 50.  \n",
    "\n",
    "En comparación, el modelo con una red neuronal simple obtuvo un accuracy de 38% en el mejor model, el cual es menor al del mejor modelo de la red convolucional. La mejora considerable en el desempeño del algoritmo de CNN contra el de la red neuronal simple se debe al funcionamiento de esta. La red convolucional utiliza un proceso similar al de la visión de algunos mamíferos como gatos, donde se ha demostrado que generan las imágenes que visualizan generando mini regiones de una imagen, las cuales se traslapan para poder extraer las características de lo que están viendo. Esto es lo que le permite a la red convolucional extraer las características de una imagen (utilizando *pooling*), optimizando el algoritmo para reconocer las características que permiten diferenciar las clasificaciones que se esperan. \n",
    "\n",
    "Debido a que no se obtuvo un rendimiento superior al 60%, los modelos obtenidos son ligeramente mejores que algo aleatorio. Debido a que este modelo se supone debe usarse en la diagnosis de retinopatía diabética, una condición médica que puede tener implicaciones severas para una persona, no se recomienda utilizar este modelo para diagnosticar la severidad de la enfermedad. Para mejorar la exactitud del algoritmo, se recomendaría obtener un dataset con un mayor número de imágenes, para determinar si un mayor número puede aumentar la eactitud o si sería recomendable cambiar la topología de la red neuronal de una manera más drástica. Cabe considerar que se tienen varias limitaciones al momento de generar los modelos debido al alto costo computacional. "
   ]
  }
 ],
 "metadata": {
  "accelerator": "GPU",
  "colab": {
   "collapsed_sections": [],
   "machine_shape": "hm",
   "name": "Lab4DS.ipynb",
   "provenance": [],
   "toc_visible": true
  },
  "kernelspec": {
   "display_name": "Python 3",
   "language": "python",
   "name": "python3"
  },
  "language_info": {
   "codemirror_mode": {
    "name": "ipython",
    "version": 3
   },
   "file_extension": ".py",
   "mimetype": "text/x-python",
   "name": "python",
   "nbconvert_exporter": "python",
   "pygments_lexer": "ipython3",
   "version": "3.8.5"
  }
 },
 "nbformat": 4,
 "nbformat_minor": 1
}
